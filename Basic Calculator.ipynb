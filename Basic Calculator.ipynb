{
 "cells": [
  {
   "cell_type": "code",
   "execution_count": null,
   "metadata": {},
   "outputs": [],
   "source": [
    "#Input from the user\n",
    "\n",
    "select = int(input(\"Select operations from 1, 2, 3, 4 :\"))\n",
    "\n",
    "num1 = int(input(\"Enter your first number: \"))\n",
    "num2 = int(input(\"Enter your second number: \"))\n",
    "\n",
    "if select == 1:\n",
    "    print(num1, \"+\", num2, \"=\",(num1+num2))\n",
    "\n",
    "elif select == 2:\n",
    "    print(num1, \"-\", num2, \"=\",(num1-num2))\n",
    "\n",
    "elif select == 3:\n",
    "    print(num1, \"*\", num2, \"=\",(num1*num2))\n",
    "    \n",
    "elif select == 4:\n",
    "    print(num1, \"/\", num2, \"=\",(num1/num2))\n",
    "\n",
    "else:\n",
    "    print(\"Invalid Input\")"
   ]
  }
 ],
 "metadata": {
  "kernelspec": {
   "display_name": "Python 3",
   "language": "python",
   "name": "python3"
  },
  "language_info": {
   "codemirror_mode": {
    "name": "ipython",
    "version": 3
   },
   "file_extension": ".py",
   "mimetype": "text/x-python",
   "name": "python",
   "nbconvert_exporter": "python",
   "pygments_lexer": "ipython3",
   "version": "3.8.5"
  }
 },
 "nbformat": 4,
 "nbformat_minor": 4
}
